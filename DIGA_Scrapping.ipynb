{
 "cells": [
  {
   "cell_type": "markdown",
   "metadata": {},
   "source": [
    "*Imports*"
   ]
  },
  {
   "cell_type": "code",
   "execution_count": 3,
   "metadata": {},
   "outputs": [
    {
     "name": "stderr",
     "output_type": "stream",
     "text": [
      "C:\\Users\\Public\\Documents\\Wondershare\\CreatorTemp\\ipykernel_14992\\3987775538.py:7: DeprecationWarning: executable_path has been deprecated, please pass in a Service object\n",
      "  wd = webdriver.Firefox(executable_path=driver_path)\n"
     ]
    }
   ],
   "source": [
    "import pandas as pd\n",
    "from bs4 import BeautifulSoup\n",
    "import time\n",
    "import selenium\n",
    "from selenium import webdriver\n",
    "driver_path=r'C:\\Users\\gmult\\Documents\\Python Scripts\\DIGA\\geckodriver.exe'\n",
    "wd = webdriver.Firefox(executable_path=driver_path)\n"
   ]
  },
  {
   "cell_type": "markdown",
   "metadata": {},
   "source": [
    "*Eingabe der URL zum Webscrapping*\n",
    "- Genauere Informationen zu den DIGA sind auf den einzelnen Seiten erfasst. Diese werden über {page_number} einzeln aufgerufen"
   ]
  },
  {
   "cell_type": "code",
   "execution_count": 17,
   "metadata": {},
   "outputs": [
    {
     "name": "stdout",
     "output_type": "stream",
     "text": [
      "['961', '1346', '998', '450', '419', '939', '1376', '1513', '1304', '965', '1497', '300', '350', '1282', '993', '1496', '329', '1196', '1085', '1110', '872', '691', '876', '1049', '1052', '508', '316', '746', '387', '868', '294', '315', '875']\n",
      "33\n"
     ]
    }
   ],
   "source": [
    "import re\n",
    "wd.get(\"https://diga.bfarm.de/de/verzeichnis?type=%5B%5D\")\n",
    "\n",
    "counter = 0\n",
    "while True:\n",
    "    if counter == 10:\n",
    "        print(\"There are no results\")\n",
    "        break\n",
    "    htmlfile = wd.page_source\n",
    "    # print(htmlfile)\n",
    "    pattern = 'href=\\\"/de/verzeichnis/([0-9]+)\\\"'\n",
    "    match_list = re.findall(pattern, htmlfile)\n",
    "    if match_list:\n",
    "        print(match_list)\n",
    "        print(len(match_list))\n",
    "        break\n",
    "    else:\n",
    "        counter += 1\n",
    "    time.sleep(0.5)\n",
    "\n",
    "\n"
   ]
  },
  {
   "cell_type": "code",
   "execution_count": 3,
   "metadata": {},
   "outputs": [
    {
     "data": {
      "text/plain": [
       "'https://diga.bfarm.de/de/verzeichnis/300'"
      ]
     },
     "execution_count": 3,
     "metadata": {},
     "output_type": "execute_result"
    }
   ],
   "source": [
    "page_number = 1\n",
    "base_url = f\"https://diga.bfarm.de/de/verzeichnis/{page_number}\"\n",
    "base_url"
   ]
  },
  {
   "cell_type": "code",
   "execution_count": null,
   "metadata": {},
   "outputs": [],
   "source": []
  },
  {
   "cell_type": "markdown",
   "metadata": {},
   "source": [
    "*Auswahl Selenium Webdriver (Firefox) von cwd* + öffnen des Browsers"
   ]
  },
  {
   "cell_type": "code",
   "execution_count": 8,
   "metadata": {},
   "outputs": [
    {
     "name": "stderr",
     "output_type": "stream",
     "text": [
      "C:\\Users\\Public\\Documents\\Wondershare\\CreatorTemp\\ipykernel_13764\\4107663975.py:2: DeprecationWarning: executable_path has been deprecated, please pass in a Service object\n",
      "  wd = webdriver.Firefox(executable_path=driver_path)\n"
     ]
    }
   ],
   "source": [
    "driver_path=r'C:\\Users\\gmult\\Documents\\Python Scripts\\DIGA\\geckodriver.exe'\n",
    "wd = webdriver.Firefox(executable_path=driver_path)"
   ]
  },
  {
   "cell_type": "markdown",
   "metadata": {},
   "source": []
  },
  {
   "cell_type": "code",
   "execution_count": 5,
   "metadata": {},
   "outputs": [],
   "source": [
    "wd.get(base_url)"
   ]
  },
  {
   "cell_type": "markdown",
   "metadata": {},
   "source": [
    "*Auslesen der HTML der Webseite in html.file in Visual Studio*"
   ]
  },
  {
   "cell_type": "code",
   "execution_count": 7,
   "metadata": {},
   "outputs": [],
   "source": [
    "with open(\"html_scripts\", \"w\") as file:\n",
    "    file.write(wd.page_source)"
   ]
  },
  {
   "cell_type": "code",
   "execution_count": null,
   "metadata": {},
   "outputs": [],
   "source": []
  },
  {
   "cell_type": "code",
   "execution_count": 19,
   "metadata": {},
   "outputs": [],
   "source": [
    "# Zuteilung der URL für einzelne DIGA ohne System. Range von 294 - 1513 würde zu viele html Datensätze erstellt werden, bei öediglich 32 DIGAs. Daher u.a. manuell erstellte Liste:\n",
    "bfarm_diga = [961, 1346, 998, 450, 419, 939, 1376, 1513, 1304, 965, 1497, 300, 350, 1282, 993, 1496, 329, 1196, 1085, 1110, 872, 691, 876, 1049, 1052, 508, 316, 387, 868, 294, 315, 875]\n"
   ]
  },
  {
   "cell_type": "code",
   "execution_count": 27,
   "metadata": {},
   "outputs": [
    {
     "name": "stderr",
     "output_type": "stream",
     "text": [
      "C:\\Users\\Public\\Documents\\Wondershare\\CreatorTemp\\ipykernel_13764\\1583509406.py:2: DeprecationWarning: executable_path has been deprecated, please pass in a Service object\n",
      "  wd = webdriver.Firefox(executable_path=driver_path)\n"
     ]
    }
   ],
   "source": [
    "for i in bfarm_diga:\n",
    "    wd = webdriver.Firefox(executable_path=driver_path)\n",
    "    wd.get(f\"https://diga.bfarm.de/de/verzeichnis/{i}\")\n",
    "    time.sleep(5)\n",
    "    with open(f\"html_scripts{i}.html\", \"w\") as file:\n",
    "        file.write(wd.page_source)"
   ]
  }
 ],
 "metadata": {
  "interpreter": {
   "hash": "c0b31c08b5ec32ce97bbe6403c289c4c0aa4f80e5934bc7f0722bf532af8edac"
  },
  "kernelspec": {
   "display_name": "Python 3.10.4 ('web_scrapping')",
   "language": "python",
   "name": "python3"
  },
  "language_info": {
   "codemirror_mode": {
    "name": "ipython",
    "version": 3
   },
   "file_extension": ".py",
   "mimetype": "text/x-python",
   "name": "python",
   "nbconvert_exporter": "python",
   "pygments_lexer": "ipython3",
   "version": "3.10.4"
  },
  "orig_nbformat": 4
 },
 "nbformat": 4,
 "nbformat_minor": 2
}
