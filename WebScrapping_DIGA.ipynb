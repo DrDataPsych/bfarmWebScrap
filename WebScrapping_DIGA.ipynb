{
 "cells": [
  {
   "cell_type": "markdown",
   "metadata": {},
   "source": [
    "*Imports*"
   ]
  },
  {
   "cell_type": "code",
   "execution_count": 5,
   "metadata": {},
   "outputs": [],
   "source": [
    "import pandas as pd\n",
    "from bs4 import BeautifulSoup\n",
    "import time\n",
    "import selenium\n",
    "from selenium import webdriver\n",
    "import re\n"
   ]
  },
  {
   "cell_type": "markdown",
   "metadata": {},
   "source": [
    "Select Selenium Webdriver (Firefox) from cwd* + open the Browser"
   ]
  },
  {
   "cell_type": "code",
   "execution_count": 6,
   "metadata": {},
   "outputs": [
    {
     "name": "stderr",
     "output_type": "stream",
     "text": [
      "C:\\Users\\gmult\\AppData\\Local\\Temp\\ipykernel_10356\\2062448838.py:2: DeprecationWarning: executable_path has been deprecated, please pass in a Service object\n",
      "  wd = webdriver.Firefox(executable_path=driver_path)\n"
     ]
    }
   ],
   "source": [
    "driver_path=r'C:\\Users\\gmult\\Documents\\PythonScripts\\DIGA\\geckodriver.exe'\n",
    "wd = webdriver.Firefox(executable_path=driver_path)"
   ]
  },
  {
   "cell_type": "markdown",
   "metadata": {},
   "source": [
    "Searching for all Subpages (DIGAs) within the main BFARM DIGA registry. The Subpages differ only by the end-number. Saving the results in a list with a time.sleep of 2 seconds (to load the page)"
   ]
  },
  {
   "cell_type": "code",
   "execution_count": 7,
   "metadata": {},
   "outputs": [
    {
     "name": "stdout",
     "output_type": "stream",
     "text": [
      "['961', '1346', '998', '450', '419', '939', '1376', '1513', '1304', '965', '1497', '300', '350', '1282', '993', '1496', '329', '1196', '1085', '1110', '872', '691', '876', '1049', '1052', '508', '316', '746', '387', '868', '294', '315', '875']\n",
      "33\n"
     ]
    }
   ],
   "source": [
    "wd.get(\"https://diga.bfarm.de/de/verzeichnis?type=%5B%5D\")\n",
    "\n",
    "while True:\n",
    "    htmlfile = wd.page_source\n",
    "    pattern = 'href=\\\"/de/verzeichnis/([0-9]+)\\\"'\n",
    "    diga_list = re.findall(pattern, htmlfile)\n",
    "    if diga_list:\n",
    "        print(diga_list)\n",
    "        break\n",
    "    else:\n",
    "        time.sleep(2)\n",
    "\n",
    "print(len(diga_list))"
   ]
  },
  {
   "cell_type": "markdown",
   "metadata": {},
   "source": [
    "Web Scraping for every Subpage in the 'diga_list', saving each site as a HTML File"
   ]
  },
  {
   "cell_type": "code",
   "execution_count": 8,
   "metadata": {},
   "outputs": [
    {
     "name": "stderr",
     "output_type": "stream",
     "text": [
      "C:\\Users\\gmult\\AppData\\Local\\Temp\\ipykernel_10356\\1404152835.py:2: DeprecationWarning: executable_path has been deprecated, please pass in a Service object\n",
      "  wd = webdriver.Firefox(executable_path=driver_path)\n"
     ]
    }
   ],
   "source": [
    "for i in diga_list:\n",
    "    wd = webdriver.Firefox(executable_path=driver_path)\n",
    "    wd.get(f\"https://diga.bfarm.de/de/verzeichnis/{i}\")\n",
    "    time.sleep(5)\n",
    "    with open(f\"html_scrap{i}.html\", \"w\") as file:\n",
    "        file.write(wd.page_source)"
   ]
  }
 ],
 "metadata": {
  "interpreter": {
   "hash": "c0b31c08b5ec32ce97bbe6403c289c4c0aa4f80e5934bc7f0722bf532af8edac"
  },
  "kernelspec": {
   "display_name": "Python 3.10.4 ('web_scrapping')",
   "language": "python",
   "name": "python3"
  },
  "language_info": {
   "codemirror_mode": {
    "name": "ipython",
    "version": 3
   },
   "file_extension": ".py",
   "mimetype": "text/x-python",
   "name": "python",
   "nbconvert_exporter": "python",
   "pygments_lexer": "ipython3",
   "version": "3.10.4"
  },
  "orig_nbformat": 4
 },
 "nbformat": 4,
 "nbformat_minor": 2
}
